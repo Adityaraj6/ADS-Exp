{
  "nbformat": 4,
  "nbformat_minor": 0,
  "metadata": {
    "colab": {
      "name": "EXP8(Implementation of GM Algorithm).ipynb",
      "provenance": []
    },
    "kernelspec": {
      "name": "python3",
      "display_name": "Python 3"
    },
    "language_info": {
      "name": "python"
    }
  },
  "cells": [
    {
      "cell_type": "code",
      "execution_count": null,
      "metadata": {
        "id": "8vVdDSutzkax"
      },
      "outputs": [],
      "source": [
        "import numpy as np\n",
        "import pandas as pd\n",
        "from sklearn.mixture import GaussianMixture\n",
        "import matplotlib.pyplot as plt"
      ]
    },
    {
      "cell_type": "code",
      "source": [
        "dataset = pd.read_csv(\"/content/pima-indians-diabetes.csv\")"
      ],
      "metadata": {
        "id": "mwYp1phz1ctQ"
      },
      "execution_count": null,
      "outputs": []
    },
    {
      "cell_type": "code",
      "source": [
        "x = dataset.iloc[:, 1:4].values\n",
        "x"
      ],
      "metadata": {
        "id": "GLoufF0n1erb"
      },
      "execution_count": null,
      "outputs": []
    },
    {
      "cell_type": "code",
      "source": [
        "model = GaussianMixture(n_components=3, random_state= 1).fit(x)"
      ],
      "metadata": {
        "id": "06KBGg3U1hys"
      },
      "execution_count": null,
      "outputs": []
    },
    {
      "cell_type": "code",
      "source": [
        "y = model.predict([[10, 5, 32]])\n",
        "y"
      ],
      "metadata": {
        "id": "xYvBCW5c1jIu"
      },
      "execution_count": null,
      "outputs": []
    },
    {
      "cell_type": "code",
      "source": [
        "print(model.means_)\n",
        "print(model.weights_)"
      ],
      "metadata": {
        "id": "ZXx7L6Hb1kp3"
      },
      "execution_count": null,
      "outputs": []
    },
    {
      "cell_type": "code",
      "source": [
        "plt.scatter(x[:,[0]],x[:,[1]],x[:,[2]],c=model.weights_,cmap='rainbow')"
      ],
      "metadata": {
        "id": "rCVznNRp1pnt"
      },
      "execution_count": null,
      "outputs": []
    }
  ]
}