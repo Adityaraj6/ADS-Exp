{
  "nbformat": 4,
  "nbformat_minor": 0,
  "metadata": {
    "colab": {
      "name": "EXP7(Implementation of Bayesian network).ipynb",
      "provenance": []
    },
    "kernelspec": {
      "name": "python3",
      "display_name": "Python 3"
    },
    "language_info": {
      "name": "python"
    }
  },
  "cells": [
    {
      "cell_type": "code",
      "execution_count": null,
      "metadata": {
        "id": "gRfK-BaVxUi_"
      },
      "outputs": [],
      "source": [
        "pip install pomegranate"
      ]
    },
    {
      "cell_type": "code",
      "source": [
        "import math\n",
        "from pomegranate import *"
      ],
      "metadata": {
        "id": "EpJhHBXvxiI9"
      },
      "execution_count": null,
      "outputs": []
    },
    {
      "cell_type": "code",
      "source": [
        "guest =DiscreteDistribution ( { 'A' : 1 ./ 3 , 'B' : 1 ./ 3 , 'C' : 1 ./ 3 } )\n",
        "prize =DiscreteDistribution ( { 'A' : 1 ./ 3 , 'B' : 1 ./ 3 , 'C' : 1 ./ 3 } )"
      ],
      "metadata": {
        "id": "sI9_4UyWxpHb"
      },
      "execution_count": null,
      "outputs": []
    },
    {
      "cell_type": "code",
      "source": [
        "monty =ConditionalProbabilityTable ( [[ 'A' , 'A' , 'A' , 0.0 ], [ 'A' , 'A' , 'B' , 0.5 ], [ 'A' , 'A' , 'C' , 0.5 ], [ 'A' , 'B' , 'A' , 0.0 ], [ 'A' , 'B' , 'B' , 0.0 ], [ 'A' , 'B' , 'C' , 1.0 ], [ 'A' , 'C' , 'A' , 0.0 ], [ 'A' , 'C' , 'B' , 1.0 ], [ 'A' , 'C' , 'C' , 0.0 ], [ 'B' , 'A' , 'A' , 0.0 ], [ 'B' , 'A' , 'B' , 0.0 ], [ 'B' , 'A' , 'C' , 1.0 ], [ 'B' , 'B' , 'A' , 0.5 ], [ 'B' , 'B' , 'B' , 0.0 ], [ 'B' , 'B' , 'C' , 0.5 ], [ 'B' , 'C' , 'A' , 1.0 ], [ 'B' , 'C' , 'B' , 0.0 ],['B','C','C',0.0],['C','A','A',0.0],['C','A','B',1.0],['C','A','C',0.0],['C','B','A',1.0],['C','B','B',0.0],['C','B','C',0.0],['C','C','A',0.5],['C','C','B',0.5],['C','C','C',0.0]],[guest,prize])"
      ],
      "metadata": {
        "id": "L3l5yG2h2jmW"
      },
      "execution_count": null,
      "outputs": []
    },
    {
      "cell_type": "code",
      "source": [
        "d1 = State ( guest , name= \"guest\" ) \n",
        "d2 = State ( prize , name= \"prize\" ) \n",
        "d3 = State ( monty , name= \"monty\" )"
      ],
      "metadata": {
        "id": "LuzZYYaq4fqk"
      },
      "execution_count": null,
      "outputs": []
    },
    {
      "cell_type": "code",
      "source": [
        "network = BayesianNetwork ( \"Solving the Monty Hall Problem With Bayesian Netw orks\" ) \n",
        "network.add_states ( d1 , d2 , d3 ) \n",
        "network.add_edge ( d1 , d3 ) \n",
        "network.add_edge ( d2 , d3 ) \n",
        "network.bake ()"
      ],
      "metadata": {
        "id": "4G7JuuKm4-Ri"
      },
      "execution_count": null,
      "outputs": []
    },
    {
      "cell_type": "code",
      "source": [
        "beliefs = network.predict_proba ({ 'guest' : 'A' }) \n",
        "beliefs = map ( str , beliefs ) \n",
        "print ( \"\\n\" .join ( \"{}\\t{}\" . format ( state.name , belief ) for state , belief in zip ( network.st"
      ],
      "metadata": {
        "id": "0j2brjKK5Gpu"
      },
      "execution_count": null,
      "outputs": []
    },
    {
      "cell_type": "code",
      "source": [
        "beliefs = network.predict_proba ({ 'guest' : 'A' , 'monty' : 'B' }) \n",
        "print ( \"\\n\" .join ( \"{}\\t{}\" . format ( state.name , str ( belief ) ) for state , belief in zip ( netw"
      ],
      "metadata": {
        "id": "DNng4GQd5QP6"
      },
      "execution_count": null,
      "outputs": []
    }
  ]
}