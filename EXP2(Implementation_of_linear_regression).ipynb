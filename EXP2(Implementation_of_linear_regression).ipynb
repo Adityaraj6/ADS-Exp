{
  "nbformat": 4,
  "nbformat_minor": 0,
  "metadata": {
    "colab": {
      "name": "EXP2(Implementation of linear regression).ipynb",
      "provenance": []
    },
    "kernelspec": {
      "name": "python3",
      "display_name": "Python 3"
    },
    "language_info": {
      "name": "python"
    }
  },
  "cells": [
    {
      "cell_type": "code",
      "execution_count": 1,
      "metadata": {
        "id": "t9XE0mK_p0hv"
      },
      "outputs": [],
      "source": [
        "import numpy as np\n",
        "from sklearn.linear_model import LinearRegression\n",
        "x=np.array([[1],[2],[3],[4],[5]])\n",
        "y=np.array([[3],[4],[2],[4],[5]])"
      ]
    },
    {
      "cell_type": "code",
      "source": [
        "model=LinearRegression().fit(x,y)\n",
        "model.score(x,y)"
      ],
      "metadata": {
        "id": "N-3LsJjJp9sv"
      },
      "execution_count": null,
      "outputs": []
    },
    {
      "cell_type": "code",
      "source": [
        "print(model.coef_)\n",
        "print(model.intercept_)"
      ],
      "metadata": {
        "id": "uy0jBHvdqA9_"
      },
      "execution_count": null,
      "outputs": []
    },
    {
      "cell_type": "code",
      "source": [
        "print(model.predict([[8]]))"
      ],
      "metadata": {
        "id": "9CM7zdhbqDFu"
      },
      "execution_count": null,
      "outputs": []
    },
    {
      "cell_type": "code",
      "source": [
        "without library"
      ],
      "metadata": {
        "id": "FBSRkDHQqJof"
      },
      "execution_count": null,
      "outputs": []
    },
    {
      "cell_type": "code",
      "source": [
        "import numpy as np"
      ],
      "metadata": {
        "id": "drQQXL3LqNz0"
      },
      "execution_count": 5,
      "outputs": []
    },
    {
      "cell_type": "code",
      "source": [
        "x=np.array([[1],[2],[3],[4],[5]])\n",
        "y=np.array([[3],[4],[2],[4],[5]])"
      ],
      "metadata": {
        "id": "-Em2ND79qf7J"
      },
      "execution_count": 6,
      "outputs": []
    },
    {
      "cell_type": "code",
      "source": [
        "xmean=np.mean(x)\n",
        "ymean=np.mean(y)\n",
        "xmval=x-xmean\n",
        "ymval=y-ymean"
      ],
      "metadata": {
        "id": "To9WsLGEqmtz"
      },
      "execution_count": 7,
      "outputs": []
    },
    {
      "cell_type": "code",
      "source": [
        "sqxmval=(xmval**2)\n",
        "xs=sum(sqxmval)\n",
        "mul=xmval*ymval\n",
        "m=sum(mul)/xs\n",
        "c=ymean-(m*xmean)\n",
        "xnew =8\n",
        "ynew=(m*xnew)+c\n",
        "ynew"
      ],
      "metadata": {
        "id": "2LoiTcqHqty4"
      },
      "execution_count": null,
      "outputs": []
    }
  ]
}