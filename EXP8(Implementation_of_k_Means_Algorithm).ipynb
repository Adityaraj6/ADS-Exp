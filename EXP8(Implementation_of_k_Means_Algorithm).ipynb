{
  "nbformat": 4,
  "nbformat_minor": 0,
  "metadata": {
    "colab": {
      "name": "EXP8(Implementation of k-Means Algorithm).ipynb",
      "provenance": []
    },
    "kernelspec": {
      "name": "python3",
      "display_name": "Python 3"
    },
    "language_info": {
      "name": "python"
    }
  },
  "cells": [
    {
      "cell_type": "code",
      "execution_count": 1,
      "metadata": {
        "id": "TJGBYvMXydJY"
      },
      "outputs": [],
      "source": [
        "import numpy as np\n",
        "import pandas as pd"
      ]
    },
    {
      "cell_type": "code",
      "source": [
        "x = np.array([[110, 32, 22],[ 34, 334,45], [57, 34, 78]])"
      ],
      "metadata": {
        "id": "oO7Yoyd4ym9U"
      },
      "execution_count": 2,
      "outputs": []
    },
    {
      "cell_type": "code",
      "source": [
        "from sklearn.cluster import KMeans\n",
        "model = KMeans(n_clusters = 3, random_state = 1)\n",
        "model.fit(x)"
      ],
      "metadata": {
        "id": "5BJMTPwLyo-P"
      },
      "execution_count": null,
      "outputs": []
    },
    {
      "cell_type": "code",
      "source": [
        "print(model.cluster_centers_)"
      ],
      "metadata": {
        "id": "hn8Q1XyJyq7A"
      },
      "execution_count": null,
      "outputs": []
    },
    {
      "cell_type": "code",
      "source": [
        "x_p = ([[10, 5, 32]])"
      ],
      "metadata": {
        "id": "LfPZZET_ytLL"
      },
      "execution_count": 5,
      "outputs": []
    },
    {
      "cell_type": "code",
      "source": [
        "import matplotlib.pyplot as plt"
      ],
      "metadata": {
        "id": "ZReU8rJwyyOw"
      },
      "execution_count": 6,
      "outputs": []
    },
    {
      "cell_type": "code",
      "source": [
        "plt.scatter(x[:,[0]],x[:,[1]],x[:,[2]],c=model.labels_,cmap='rainbow')"
      ],
      "metadata": {
        "id": "TkOCtLHxyzxo"
      },
      "execution_count": null,
      "outputs": []
    }
  ]
}