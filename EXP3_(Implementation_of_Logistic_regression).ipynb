{
  "nbformat": 4,
  "nbformat_minor": 0,
  "metadata": {
    "colab": {
      "name": "EXP3 (Implementation of Logistic regression).ipynb",
      "provenance": []
    },
    "kernelspec": {
      "name": "python3",
      "display_name": "Python 3"
    },
    "language_info": {
      "name": "python"
    }
  },
  "cells": [
    {
      "cell_type": "code",
      "execution_count": null,
      "metadata": {
        "id": "cuDzni6GrEVK"
      },
      "outputs": [],
      "source": [
        "from sklearn.datasets import load_breast_cancer\n",
        "from sklearn.linear_model import LogisticRegression\n",
        "input=load_breast_cancer()\n",
        "input"
      ]
    },
    {
      "cell_type": "code",
      "source": [
        "print(input['DESCR'])"
      ],
      "metadata": {
        "id": "lhTZIQhMrSFS"
      },
      "execution_count": null,
      "outputs": []
    },
    {
      "cell_type": "code",
      "source": [
        "x=input.data\n",
        "x"
      ],
      "metadata": {
        "id": "v3OKA2RzrZEv"
      },
      "execution_count": null,
      "outputs": []
    },
    {
      "cell_type": "code",
      "source": [
        "y=input.target\n",
        "y"
      ],
      "metadata": {
        "id": "Axa1-oanrbAE"
      },
      "execution_count": null,
      "outputs": []
    },
    {
      "cell_type": "code",
      "source": [
        "model=LogisticRegression().fit(x,y)"
      ],
      "metadata": {
        "id": "tvA_-ol4rgTU"
      },
      "execution_count": null,
      "outputs": []
    },
    {
      "cell_type": "code",
      "source": [
        "test=model.predict([[0,0,0,0,0,0,0,0,0,0,0,0,0,0,0,1,0,0,0,0,0,0,0,0]])\n",
        "test"
      ],
      "metadata": {
        "id": "sWAoLLyErpWT"
      },
      "execution_count": null,
      "outputs": []
    }
  ]
}