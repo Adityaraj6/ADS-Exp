{
  "nbformat": 4,
  "nbformat_minor": 0,
  "metadata": {
    "colab": {
      "name": "EXP5(Implementation of Decision Tree).ipynb",
      "provenance": []
    },
    "kernelspec": {
      "name": "python3",
      "display_name": "Python 3"
    },
    "language_info": {
      "name": "python"
    }
  },
  "cells": [
    {
      "cell_type": "code",
      "execution_count": null,
      "metadata": {
        "id": "eakjgzjgu5Pa"
      },
      "outputs": [],
      "source": [
        "import pandas as pd\n",
        "import numpy as np\n",
        "from sklearn.tree import DecisionTreeClassifier\n",
        "from sklearn.model_selection import train_test_split\n",
        "from sklearn import metrics"
      ]
    },
    {
      "cell_type": "code",
      "source": [
        "pima = pd.read_csv(\"/content/pima-indians-diabetes.csv\", header=None)"
      ],
      "metadata": {
        "id": "yCSrREwovCaa"
      },
      "execution_count": null,
      "outputs": []
    },
    {
      "cell_type": "code",
      "source": [
        "pima.head()"
      ],
      "metadata": {
        "id": "f8M-F_pGvF_3"
      },
      "execution_count": null,
      "outputs": []
    },
    {
      "cell_type": "code",
      "source": [
        "X =pima.iloc [:,[ 1 , 2 , 3 ]] .values \n",
        "Y=pima.iloc [:, -1 ] .values"
      ],
      "metadata": {
        "id": "vtkQlV6wvJXy"
      },
      "execution_count": null,
      "outputs": []
    },
    {
      "cell_type": "code",
      "source": [
        "X_train , X_test , y_train , y_test = train_test_split ( X , Y , test_size= 0.3 , random_state= 1 )\n",
        "model = DecisionTreeClassifier () \n",
        "model = model.fit ( X_train , y_train ) \n",
        "y_pred = model.predict ( X_test )"
      ],
      "metadata": {
        "id": "HUhFoi2SvRo0"
      },
      "execution_count": null,
      "outputs": []
    },
    {
      "cell_type": "code",
      "source": [
        "print(\"Accuracy:\",metrics.accuracy_score(y_test,y_pred))"
      ],
      "metadata": {
        "id": "gdXbewa3vaTN"
      },
      "execution_count": null,
      "outputs": []
    },
    {
      "cell_type": "code",
      "source": [
        "fromsklearn.datasetsimportload_iris\n",
        "fromsklearnimporttree"
      ],
      "metadata": {
        "id": "nThmet4UvebY"
      },
      "execution_count": null,
      "outputs": []
    },
    {
      "cell_type": "code",
      "source": [
        "dataset=load_iris()\n",
        "x=dataset.data\n",
        "y=dataset.target\n",
        "y"
      ],
      "metadata": {
        "id": "_D_tL9-nvlOt"
      },
      "execution_count": null,
      "outputs": []
    },
    {
      "cell_type": "code",
      "source": [
        "model=tree.DecisionTreeClassifier().fit(x,y)\n",
        "tree.plot_tree(model)"
      ],
      "metadata": {
        "id": "HtielKSCvohE"
      },
      "execution_count": null,
      "outputs": []
    }
  ]
}