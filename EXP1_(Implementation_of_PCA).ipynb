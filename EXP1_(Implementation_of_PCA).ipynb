{
  "nbformat": 4,
  "nbformat_minor": 0,
  "metadata": {
    "colab": {
      "name": "EXP1 (Implementation of PCA).ipynb",
      "provenance": []
    },
    "kernelspec": {
      "name": "python3",
      "display_name": "Python 3"
    },
    "language_info": {
      "name": "python"
    }
  },
  "cells": [
    {
      "cell_type": "code",
      "execution_count": 1,
      "metadata": {
        "id": "PJ6Gg1NGjoFv"
      },
      "outputs": [],
      "source": [
        "import pandas as pd\n",
        "from sklearn.datasets import load_iris\n",
        "from sklearn.decomposition import PCA"
      ]
    },
    {
      "cell_type": "code",
      "source": [
        "irisdata=load_iris()\n",
        "x=irisdata.data\n",
        "print(x)"
      ],
      "metadata": {
        "id": "cz5l4z_kmn_g"
      },
      "execution_count": null,
      "outputs": []
    },
    {
      "cell_type": "code",
      "source": [
        "pca=PCA(n_components=2)"
      ],
      "metadata": {
        "id": "UN828XcfmtT0"
      },
      "execution_count": 3,
      "outputs": []
    },
    {
      "cell_type": "code",
      "source": [
        "result=pca.fit_transform(x)\n",
        "print(result)"
      ],
      "metadata": {
        "id": "ogsiaghsnEfw"
      },
      "execution_count": null,
      "outputs": []
    },
    {
      "cell_type": "code",
      "source": [
        "import numpy as np\n",
        "input=np.array([[1.5,2.4],[2.3,5.2],[0.5,0.7],[1.2,1.9],[1.6,1.4]])"
      ],
      "metadata": {
        "id": "J6ERSkVDnILt"
      },
      "execution_count": 6,
      "outputs": []
    },
    {
      "cell_type": "code",
      "source": [
        "input"
      ],
      "metadata": {
        "id": "GFpFvJAOnyR4"
      },
      "execution_count": null,
      "outputs": []
    },
    {
      "cell_type": "code",
      "source": [
        "mean_values=input.mean(axis=0)"
      ],
      "metadata": {
        "id": "-P6_lYYfnz7y"
      },
      "execution_count": 8,
      "outputs": []
    },
    {
      "cell_type": "code",
      "source": [
        "print(mean_values)"
      ],
      "metadata": {
        "id": "ckBSDpvin-bc"
      },
      "execution_count": null,
      "outputs": []
    },
    {
      "cell_type": "code",
      "source": [
        "zeromean=input-mean_values"
      ],
      "metadata": {
        "id": "APuQeyf9oDrO"
      },
      "execution_count": 10,
      "outputs": []
    },
    {
      "cell_type": "code",
      "source": [
        "print(zeromean)"
      ],
      "metadata": {
        "id": "fG0mACR2oL3Z"
      },
      "execution_count": null,
      "outputs": []
    },
    {
      "cell_type": "code",
      "source": [
        "cov=np.cov(zeromean.T)"
      ],
      "metadata": {
        "id": "COkCXMBjoVLo"
      },
      "execution_count": 12,
      "outputs": []
    },
    {
      "cell_type": "code",
      "source": [
        "print(cov)"
      ],
      "metadata": {
        "id": "1an0SnbUoYPE"
      },
      "execution_count": null,
      "outputs": []
    },
    {
      "cell_type": "code",
      "source": [
        "eigval,eigvect=np.linalg.eig(cov)"
      ],
      "metadata": {
        "id": "H2BFO0DPo8m9"
      },
      "execution_count": 14,
      "outputs": []
    },
    {
      "cell_type": "code",
      "source": [
        "print(eigval)"
      ],
      "metadata": {
        "id": "KyDwdIWepATO"
      },
      "execution_count": null,
      "outputs": []
    },
    {
      "cell_type": "code",
      "source": [
        "id=eigval.argsort()[::-1]"
      ],
      "metadata": {
        "id": "ZcSdZyy4pGWN"
      },
      "execution_count": 16,
      "outputs": []
    },
    {
      "cell_type": "code",
      "source": [
        "eigvect=eigvect[:,id]\n",
        "print(eigvect)"
      ],
      "metadata": {
        "id": "X-gWoKUGpRXg"
      },
      "execution_count": null,
      "outputs": []
    },
    {
      "cell_type": "code",
      "source": [
        "newigvect=eigvect.T\n",
        "print(newigvect)"
      ],
      "metadata": {
        "id": "S6Z2i1VTpU9a"
      },
      "execution_count": null,
      "outputs": []
    },
    {
      "cell_type": "code",
      "source": [
        "newzeromean=zeromean.T\n",
        "newzeromean"
      ],
      "metadata": {
        "id": "S9BBdPTmpcqw"
      },
      "execution_count": null,
      "outputs": []
    },
    {
      "cell_type": "code",
      "source": [
        "finaldata=newigvect.dot(newzeromean)\n",
        "print(finaldata.T)"
      ],
      "metadata": {
        "id": "GZqPXskLpgJG"
      },
      "execution_count": null,
      "outputs": []
    }
  ]
}